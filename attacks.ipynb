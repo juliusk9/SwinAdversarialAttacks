{
 "cells": [
  {
   "cell_type": "markdown",
   "metadata": {},
   "source": [
    "# Setup environment"
   ]
  },
  {
   "cell_type": "code",
   "execution_count": null,
   "metadata": {},
   "outputs": [],
   "source": [
    "# Essentials\n",
    "import os\n",
    "import numpy as np\n",
    "import importlib\n",
    "import json\n",
    "from datetime import datetime\n",
    "\n",
    "os.environ[\"GIT_PYTHON_GIT_EXECUTABLE\"] = \"/usr/bin/git\"\n",
    "\n",
    "import git\n",
    "git.refresh(\"/usr/bin/git\")\n",
    "\n",
    "from foolbox import PyTorchModel\n",
    "\n",
    "# PyTorch\n",
    "import torch\n",
    "from torch.utils.data import DataLoader\n",
    "\n",
    "# Utils\n",
    "import utils\n",
    "importlib.reload(utils)\n",
    "\n",
    "from utils import get_files, save_image, make_dirs, get_model, select_gpu, get_data, get_class_weigths\n",
    "from utils import CustomTransforms, My_data, FocalLoss\n",
    "\n",
    "# OnePixelAttack\n",
    "import OnePixelAttack\n",
    "importlib.reload(OnePixelAttack)\n",
    "\n",
    "# TriangleAttack\n",
    "import TriangleAttack\n",
    "importlib.reload(TriangleAttack)\n",
    "\n",
    "import ProjectedGradientDescent\n",
    "importlib.reload(ProjectedGradientDescent)"
   ]
  },
  {
   "cell_type": "markdown",
   "metadata": {},
   "source": [
    "## Setup Cuda"
   ]
  },
  {
   "cell_type": "code",
   "execution_count": null,
   "metadata": {},
   "outputs": [],
   "source": [
    "# Set a higher max split size to avoid memory problems\n",
    "os.environ[\"PYTORCH_CUDA_ALLOC_CONF\"] = \"max_split_size_mb:512\""
   ]
  },
  {
   "cell_type": "code",
   "execution_count": null,
   "metadata": {},
   "outputs": [],
   "source": [
    "device = torch.device(f\"cuda:{select_gpu()}\" if torch.cuda.is_available() else \"cpu\")\n",
    "\n",
    "print(device)\n",
    "\n",
    "if torch.cuda.is_available():\n",
    "    torch.cuda.empty_cache()\n",
    "    print(torch.cuda.memory_summary(device=None, abbreviated=False))\n",
    "    torch.cuda.manual_seed(42)\n",
    "    torch.cuda.manual_seed_all(42)\n",
    "    torch.backends.cudnn.benchmark = True\n",
    "    torch.backends.cudnn.deterministic = False"
   ]
  },
  {
   "cell_type": "markdown",
   "metadata": {},
   "source": [
    "## Setup Transformers"
   ]
  },
  {
   "cell_type": "code",
   "execution_count": null,
   "metadata": {},
   "outputs": [],
   "source": [
    "custom_transforms = CustomTransforms()\n",
    "resize_transform = custom_transforms.get_transform(\"resize_tensor\")\n",
    "test_transform = custom_transforms.get_transform(\"test\")"
   ]
  },
  {
   "cell_type": "markdown",
   "metadata": {},
   "source": [
    "## Get the data"
   ]
  },
  {
   "cell_type": "code",
   "execution_count": null,
   "metadata": {},
   "outputs": [],
   "source": [
    "# Load train and test files that are used for the model.\n",
    "train_dict, test_dict = get_data(os.path.join(os.getcwd(), \"BreaKHis_v1\"))"
   ]
  },
  {
   "cell_type": "code",
   "execution_count": null,
   "metadata": {},
   "outputs": [],
   "source": [
    "test_files = \"./dataset/test/original/**/**/*.png\""
   ]
  },
  {
   "cell_type": "code",
   "execution_count": null,
   "metadata": {},
   "outputs": [],
   "source": [
    "org_norm = My_data(get_files(test_files), transforms=test_transform)\n",
    "org_dataloader = DataLoader(org_norm)"
   ]
  },
  {
   "cell_type": "markdown",
   "metadata": {},
   "source": [
    "## Setup network"
   ]
  },
  {
   "cell_type": "code",
   "execution_count": null,
   "metadata": {},
   "outputs": [],
   "source": [
    "model_name = \"swin\"\n",
    "model = get_model(device, model_name)\n",
    "model.eval()"
   ]
  },
  {
   "cell_type": "markdown",
   "metadata": {},
   "source": [
    "## Setup performance metrics"
   ]
  },
  {
   "cell_type": "code",
   "execution_count": null,
   "metadata": {},
   "outputs": [],
   "source": [
    "filepaths = {\n",
    "    \"Network\": [\"SWIN\", \"RESNET\", \"RETRAINED SWIN\", \"RETRAINED RESNET\"],\n",
    "    \"Attack\": [\"Regular\", \"OnePixel\", \"Triangle\", \"PGD\"]\n",
    "}\n",
    "network = 0"
   ]
  },
  {
   "cell_type": "markdown",
   "metadata": {},
   "source": [
    "# Evaluate performance"
   ]
  },
  {
   "cell_type": "markdown",
   "metadata": {},
   "source": [
    "## Evaluate model performance"
   ]
  },
  {
   "cell_type": "code",
   "execution_count": null,
   "metadata": {},
   "outputs": [],
   "source": [
    "plot_data = {\n",
    "    str(i): [] for i in range(org_norm.__len__())\n",
    "}"
   ]
  },
  {
   "cell_type": "code",
   "execution_count": null,
   "metadata": {},
   "outputs": [],
   "source": [
    "with torch.no_grad():\n",
    "    for i, (image, label) in enumerate(org_dataloader):\n",
    "        path = org_norm.__getpath__(i)\n",
    "        true_label = [index for index, value in enumerate(label[0].tolist()) if value == 1]\n",
    "        confs = model(image.to(device))\n",
    "        pred_label = torch.argmax(confs, dim=1)\n",
    "    \n",
    "        plot_data[str(i)] = [path, true_label, pred_label.item(), confs.cpu().numpy()[0].tolist()]"
   ]
  },
  {
   "cell_type": "code",
   "execution_count": null,
   "metadata": {},
   "outputs": [],
   "source": [
    "name = \"{} - {} - {}\".format(filepaths[\"Network\"][network], filepaths[\"Attack\"][0], datetime.now().strftime(\"%Y-%m-%d %H%M\"))\n",
    "\n",
    "with open(\"{}.txt\".format(name), \"w\") as output:\n",
    "    output.write(json.dumps(plot_data))"
   ]
  },
  {
   "cell_type": "markdown",
   "metadata": {},
   "source": [
    "## Perform and evaluate Advanced OnePixel Attack"
   ]
  },
  {
   "cell_type": "code",
   "execution_count": null,
   "metadata": {},
   "outputs": [],
   "source": [
    "with torch.no_grad():\n",
    "        op_advs = OnePixelAttack.attack(1, model, device, org_dataloader, pixel_count=1, maxiter=50, popsize=15)"
   ]
  },
  {
   "cell_type": "code",
   "execution_count": null,
   "metadata": {},
   "outputs": [],
   "source": [
    "plot_data = {\n",
    "    str(i): [] for i in range(org_norm.__len__())\n",
    "}"
   ]
  },
  {
   "cell_type": "code",
   "execution_count": null,
   "metadata": {},
   "outputs": [],
   "source": [
    "make_dirs(\"test/one_pixel_attack/\"+model_name)\n",
    "with torch.no_grad():\n",
    "    for i, (image, label) in enumerate(org_dataloader):\n",
    "        path = org_norm.__getpath__(i)\n",
    "        true_label = [index for index, value in enumerate(label[0].tolist()) if value == 1]\n",
    "        confs = model(op_advs[i].to(device))\n",
    "        pred_label = torch.argmax(confs, dim=1)\n",
    "        save_image(op_advs[i][0], \"./dataset/test/one_pixel_attack/\"+model_name+\"/\" + path)\n",
    "        plot_data[str(i)] = [path, true_label, pred_label.item(), confs.cpu().numpy()[0].tolist()]"
   ]
  },
  {
   "cell_type": "code",
   "execution_count": null,
   "metadata": {},
   "outputs": [],
   "source": [
    "name = \"{} - {} - {}\".format(filepaths[\"Network\"][network], filepaths[\"Attack\"][1], datetime.now().strftime(\"%Y-%m-%d %H%M\"))\n",
    "\n",
    "with open(\"{}.txt\".format(name), \"w\") as output:\n",
    "    output.write(json.dumps(plot_data))"
   ]
  },
  {
   "cell_type": "markdown",
   "metadata": {},
   "source": [
    "## Perform and evaluate Triangle attack   "
   ]
  },
  {
   "cell_type": "code",
   "execution_count": null,
   "metadata": {
    "tags": []
   },
   "outputs": [],
   "source": [
    "#model = PyTorchModel(get_model(device, model_name).eval(), bounds=(0,1), device=device)\n",
    "pt_model = PyTorchModel(model.eval(), bounds=(0,1), device=device)\n",
    "# run on a10 gpu as it has highest memory, is processes about 100 images in 20 mins for the SWIN\n",
    "print(\"Attack !\")\n",
    "\n",
    "with torch.no_grad():\n",
    "    ta_model = TriangleAttack.TA(pt_model, input_device=device)\n",
    "    my_advs, q_list, my_intermediates, max_length = ta_model.attack(org_dataloader)\n",
    "    print('TA Attack Done')"
   ]
  },
  {
   "cell_type": "code",
   "execution_count": null,
   "metadata": {},
   "outputs": [],
   "source": [
    "plot_data = {\n",
    "    str(i): [] for i in range(len(my_advs))\n",
    "}\n",
    "\n",
    "make_dirs(\"test/triangle_attack/\"+model_name)\n",
    "for i in range(len(my_advs)):\n",
    "    path = org_norm.__getpath__(i)\n",
    "    true_label = [index for index, value in enumerate(org_norm.__getitem__(i)[1].tolist()) if value == 1]\n",
    "    confs = model(my_advs[i].unsqueeze(0))\n",
    "    pred_label = torch.argmax(confs, dim=1)\n",
    "    \n",
    "    save_image(my_advs[i], \"./dataset/test/triangle_attack/\"+model_name+\"/\" + path)\n",
    "    plot_data[str(i)] = [path, true_label, pred_label.item(), confs.detach().cpu().numpy()[0].tolist()]"
   ]
  },
  {
   "cell_type": "code",
   "execution_count": null,
   "metadata": {},
   "outputs": [],
   "source": [
    "name = \"{} - {} - {}\".format(filepaths[\"Network\"][network], filepaths[\"Attack\"][2], datetime.now().strftime(\"%Y-%m-%d %H%M\"))\n",
    "\n",
    "with open(\"{}.txt\".format(name), \"w\") as output:\n",
    "    output.write(json.dumps(plot_data))"
   ]
  },
  {
   "cell_type": "markdown",
   "metadata": {},
   "source": [
    "## Perform and evaluate Project Gradient Descent attack"
   ]
  },
  {
   "cell_type": "code",
   "execution_count": null,
   "metadata": {},
   "outputs": [],
   "source": [
    "plot_data = {\n",
    "    str(i): [] for i in range(org_norm.__len__())\n",
    "}\n",
    "# Avoid using with torch.no_grad()\n",
    "pgd_advs = ProjectedGradientDescent.pgd_attack(org_dataloader, model, device, get_class_weigths(train_dict).to(device))"
   ]
  },
  {
   "cell_type": "code",
   "execution_count": null,
   "metadata": {},
   "outputs": [],
   "source": [
    "make_dirs(\"test/pgd_attack/\"+model_name)\n",
    "with torch.no_grad():\n",
    "    for i, (image, label) in enumerate(org_dataloader):\n",
    "        path = org_norm.__getpath__(i)\n",
    "        true_label = [index for index, value in enumerate(label[0].tolist()) if value == 1]\n",
    "        confs = model(pgd_advs[i].to(device))\n",
    "        pred_label = torch.argmax(confs, dim=1)\n",
    "        save_image(pgd_advs[i][0], \"./dataset/test/pgd_attack/\"+model_name+\"/\" + path)\n",
    "        plot_data[str(i)] = [path, true_label, pred_label.item(), confs.cpu().numpy()[0].tolist()]"
   ]
  },
  {
   "cell_type": "code",
   "execution_count": null,
   "metadata": {},
   "outputs": [],
   "source": [
    "name = \"{} - {} - {}\".format(filepaths[\"Network\"][network], filepaths[\"Attack\"][3], datetime.now().strftime(\"%Y-%m-%d %H%M\"))\n",
    "\n",
    "with open(\"{}.txt\".format(name), \"w\") as output:\n",
    "    output.write(json.dumps(plot_data))"
   ]
  },
  {
   "cell_type": "code",
   "execution_count": null,
   "metadata": {},
   "outputs": [],
   "source": []
  }
 ],
 "metadata": {
  "kernelspec": {
   "display_name": "Python",
   "language": "python",
   "name": "python3"
  }
 },
 "nbformat": 4,
 "nbformat_minor": 4
}
