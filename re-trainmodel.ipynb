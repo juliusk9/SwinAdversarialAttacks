{
 "cells": [
  {
   "cell_type": "markdown",
   "metadata": {},
   "source": [
    "# Load Data & Train Model\n",
    "This notebook allows us to load the entire dataset, split it into a proper train/test split and trains the model using K-Fold cross validation.\n",
    "\n",
    "## Imports"
   ]
  },
  {
   "cell_type": "code",
   "execution_count": null,
   "metadata": {},
   "outputs": [],
   "source": [
    "# Essentials\n",
    "import math\n",
    "import random\n",
    "import os\n",
    "import copy\n",
    "import glob\n",
    "import shutil\n",
    "import numpy as np\n",
    "import json\n",
    "import importlib\n",
    "import time as time\n",
    "\n",
    "# Torch\n",
    "import torch\n",
    "import torch.nn as nn\n",
    "import torch.nn.functional as F\n",
    "from torch.nn import Sequential as Seq, Linear as Lin, Conv2d\n",
    "\n",
    "import torchvision.models as models\n",
    "from torchvision import datasets, transforms\n",
    "\n",
    "from torch.utils.data import Dataset, DataLoader\n",
    "\n",
    "import torch.optim as optim\n",
    "import timm\n",
    "from timm.models import create_model\n",
    "from timm.data import create_transform\n",
    "from sklearn.metrics import accuracy_score\n",
    "\n",
    "# Images\n",
    "import albumentations\n",
    "import albumentations.pytorch\n",
    "\n",
    "import cv2\n",
    "\n",
    "from PIL import Image\n",
    "\n",
    "# Machine Learning\n",
    "from sklearn.model_selection import KFold\n",
    "\n",
    "from barbar import Bar\n",
    "\n",
    "import utils\n",
    "importlib.reload(utils)\n",
    "\n",
    "from utils import get_data, select_gpu, get_model, get_class_weigths, get_files\n",
    "from utils import My_data, CustomTransforms, FocalLoss"
   ]
  },
  {
   "cell_type": "markdown",
   "metadata": {},
   "source": [
    "## Set Device"
   ]
  },
  {
   "cell_type": "code",
   "execution_count": null,
   "metadata": {},
   "outputs": [],
   "source": [
    "device = torch.device(f\"cuda:{select_gpu()}\" if torch.cuda.is_available() else \"cpu\")\n",
    "print(f\"Using device: {device}\")"
   ]
  },
  {
   "cell_type": "code",
   "execution_count": null,
   "metadata": {},
   "outputs": [],
   "source": [
    "torch.cuda.device_count()"
   ]
  },
  {
   "cell_type": "code",
   "execution_count": null,
   "metadata": {},
   "outputs": [],
   "source": [
    "if torch.cuda.is_available():\n",
    "    torch.cuda.empty_cache()\n",
    "    print(torch.cuda.memory_summary(device=None, abbreviated=False))\n",
    "    torch.cuda.manual_seed(42)\n",
    "    torch.cuda.manual_seed_all(42)\n",
    "    torch.backends.cudnn.benchmark = True\n",
    "    torch.backends.cudnn.deterministic = False"
   ]
  },
  {
   "cell_type": "markdown",
   "metadata": {},
   "source": [
    "## Load Dataset"
   ]
  },
  {
   "cell_type": "markdown",
   "metadata": {},
   "source": [
    "This downloads the dataset to the server and unzips it so we can use it. Check the size of the folder before running the rest of the code. Should be around 4GB"
   ]
  },
  {
   "cell_type": "code",
   "execution_count": null,
   "metadata": {},
   "outputs": [],
   "source": [
    "# All eight classes\n",
    "classes = [\"A\", \"F\", \"TA\", \"PT\", \"DC\", \"LC\", \"MC\", \"PC\"]\n",
    "benign_classes = classes[:4]\n",
    "malignant_classes = classes[4:]\n",
    "\n",
    "# All four zoom levels\n",
    "zooms = [\"40\", \"100\", \"200\", \"400\"]"
   ]
  },
  {
   "cell_type": "code",
   "execution_count": null,
   "metadata": {},
   "outputs": [],
   "source": [
    "model_name = \"swin\"\n",
    "\n",
    "org_dataset = './dataset/train/original/**/**/*.png'\n",
    "pert_dataset = f'./dataset/train/pgd_attack/{model_name}/**/**/*.png'\n",
    "\n",
    "dataset = get_files(org_dataset) + get_files(pert_dataset)\n",
    "print(len(dataset))\n",
    "\n",
    "# Create the train_dict\n",
    "train_dict = {c: {z: [path for path in dataset if path.split(\"_\")[-1].split(\"-\")[0] == c and path.split(\"_\")[-1].split(\"-\")[3] == z] for z in zooms} for c in classes}"
   ]
  },
  {
   "cell_type": "markdown",
   "metadata": {},
   "source": [
    "## Prepare Data\n",
    "In this section we do the following:\n",
    "1. Store all image paths in a dictionary that is filtered on class and zoom level\n",
    "2. Create a stratified train/test split (based on class and zoom level) and store the image paths of both sets again in a filtered dictionary\n",
    "3. Copy all images from the raw data source to the structured data folder \"dataset/\"\n",
    "4. Create a 5-fold cross validation split for the train dataset\n",
    "5. Prepare all splits for forward pass of the model"
   ]
  },
  {
   "cell_type": "markdown",
   "metadata": {},
   "source": [
    "### Prepare Data for Forward Pass"
   ]
  },
  {
   "cell_type": "code",
   "execution_count": null,
   "metadata": {},
   "outputs": [],
   "source": [
    "# initialize transformers\n",
    "transform = CustomTransforms()\n",
    "\n",
    "# Create data loaders for each fold\n",
    "train_dataloader = DataLoader(My_data(dataset, transforms=transform.get_transform(\"train\")), batch_size=4,shuffle=True,num_workers=2, pin_memory=True,prefetch_factor=2)"
   ]
  },
  {
   "cell_type": "markdown",
   "metadata": {},
   "source": [
    "## Create Model"
   ]
  },
  {
   "cell_type": "code",
   "execution_count": null,
   "metadata": {},
   "outputs": [],
   "source": [
    "model = get_model(device, model=model_name)"
   ]
  },
  {
   "cell_type": "code",
   "execution_count": null,
   "metadata": {},
   "outputs": [],
   "source": [
    "print(len([param for param in model.named_parameters()]))\n",
    "\n",
    "# Iterate over the parameters and check requires_grad\n",
    "for name, param in model.named_parameters():\n",
    "    if param.requires_grad:\n",
    "        print(f\"Parameter '{name}' requires grad.\")\n",
    "    else:\n",
    "        print(f\"Parameter '{name}' does not require grad.\")\n",
    "    \n",
    "    param.requires_grad = True"
   ]
  },
  {
   "cell_type": "code",
   "execution_count": null,
   "metadata": {},
   "outputs": [],
   "source": [
    "class FocalLoss(nn.Module):\n",
    "    def __init__(self, gamma=2.0, class_weights=None):\n",
    "        super(FocalLoss, self).__init__()\n",
    "        self.gamma = gamma\n",
    "        self.class_weights = class_weights\n",
    "\n",
    "    def forward(self, logits, labels):\n",
    "        probs = torch.sigmoid(logits)\n",
    "        ce_loss = nn.BCELoss()(probs, labels)\n",
    "        # print(type(probs), probs, self.gamma)\n",
    "        weight = (1 - probs).pow(self.gamma)\n",
    "        loss = ce_loss  # Initialize loss with cross-entropy loss\n",
    "        if self.class_weights is not None:\n",
    "            weight = weight * self.class_weights\n",
    "            loss = loss * weight\n",
    "        return loss"
   ]
  },
  {
   "cell_type": "markdown",
   "metadata": {},
   "source": [
    "## Train Model\n",
    "\n",
    "This section performs the actual training of the model. We first determine methods fit and validate that will be called during the training. Afterwards, we define the loop that optimizes the model."
   ]
  },
  {
   "cell_type": "code",
   "execution_count": null,
   "metadata": {},
   "outputs": [],
   "source": [
    "def fit(model, dataloader, optimizer,scheduler, criterion):\n",
    "    #print('Training')\n",
    "    model.train()\n",
    "    train_running_loss = 0.0\n",
    "    train_running_correct = 0\n",
    "    accum_iter = 4\n",
    "\n",
    "    for i, (inputs, labels) in enumerate(Bar(dataloader)):\n",
    "        inputs = inputs.to(device)\n",
    "        labels = labels.float().to(device)\n",
    "        optimizer.zero_grad()\n",
    "        #model.zero_grad(set_to_none=True)\n",
    "        # Forward pass - compute outputs on input data using the model\n",
    "        outputs = model(inputs)\n",
    "        thresholds = [0.5, 0.5, 0.5,0.5,0.5,0.5,0.5,0.5]\n",
    "        # Compute loss\n",
    "        loss = criterion(outputs, labels)\n",
    "        train_running_loss += loss.item()* inputs.size(0)\n",
    "        # _ , preds = torch.max(outputs.data, 1)\n",
    "        # Apply sigmoid activation to obtain probabilities\n",
    "        #preds = (outputs > 0.5).float()\n",
    "        probs = torch.sigmoid(outputs)\n",
    "        preds = torch.zeros_like(probs)\n",
    "\n",
    "        # Set predicted labels based on the threshold\n",
    "        for i, threshold in enumerate(thresholds):\n",
    "            preds[:, i] = (probs[:, i] >= threshold).float()\n",
    "        train_running_correct += (preds == labels).all(dim=1).float().sum()\n",
    "        # Backpropagate the gradients\n",
    "        loss /= accum_iter\n",
    "        loss.backward()\n",
    "\n",
    "        if ((i + 1) % accum_iter == 0) :\n",
    "            optimizer.step()\n",
    "            optimizer.zero_grad()\n",
    "\n",
    "    scheduler.step()\n",
    "\n",
    "    train_loss = train_running_loss/len(dataloader.dataset)\n",
    "    train_accuracy = 100. * train_running_correct/len(dataloader.dataset)\n",
    "    return train_loss, train_accuracy"
   ]
  },
  {
   "cell_type": "code",
   "execution_count": null,
   "metadata": {},
   "outputs": [],
   "source": [
    "history=[]\n",
    "\n",
    "if torch.cuda.is_available():\n",
    "    torch.cuda.empty_cache()\n",
    "\n",
    "model = model.to(device)\n",
    "\n",
    "class_weights = get_class_weigths(train_dict).to(device)\n",
    "class_weights = class_weights.to(device)\n",
    "\n",
    "criterion = FocalLoss(class_weights)\n",
    "\n",
    "optimizer = optim.AdamW(filter(lambda p: p.requires_grad, model.parameters()), lr=1e-4)\n",
    "\n",
    "scheduler = torch.optim.lr_scheduler.StepLR(optimizer, step_size=15, gamma=0.5)\n",
    "\n",
    "best_acc = 0.0\n",
    "epochs=50\n",
    "\n",
    "for epoch in range(epochs):\n",
    "    epoch_start = time.time()\n",
    "    print('Epoch-{0}/{1} lr: {2}'.format(epoch+1,epochs ,optimizer.param_groups[0]['lr']))\n",
    "    \n",
    "    # # Why is this here???\n",
    "    # if  epoch > 14:\n",
    "    #     for param in model.parameters():\n",
    "    #         param.requires_grad = True\n",
    "    #print(f\"Epoch {epoch+1} of {epochs}\")\n",
    "    train_epoch_loss, train_epoch_accuracy = fit(model,train_dataloader,optimizer,scheduler,criterion)\n",
    "\n",
    "\n",
    "    epoch_end = time.time()\n",
    "    history.append([epoch+1,train_epoch_loss, train_epoch_accuracy,(epoch_end-epoch_start)])\n",
    "    print(f\"Train Loss: {train_epoch_loss:.4f}, Train Acc: {train_epoch_accuracy:.2f},time : {epoch_end-epoch_start:.2f}\")\n",
    "    torch.save({'history':history}, f'models/Master_retrained_{model_name}_his.pth')\n",
    "    if train_epoch_accuracy > best_acc:\n",
    "        best_acc = train_epoch_accuracy\n",
    "        best_model_wts = copy.deepcopy(model.state_dict())\n",
    "\n",
    "        best_epoch=epoch\n",
    "        torch.save({\n",
    "            'epoch': epoch+1,\n",
    "            'model_state_dict': best_model_wts,\n",
    "            'loss': criterion,\n",
    "            'history':history,\n",
    "            'best_epoch': best_epoch+1,\n",
    "\n",
    "            }, f'models/Master_retrained_{model_name}.pth')"
   ]
  }
 ],
 "metadata": {
  "kernelspec": {
   "display_name": "Python",
   "language": "python",
   "name": "python3"
  }
 },
 "nbformat": 4,
 "nbformat_minor": 4
}
