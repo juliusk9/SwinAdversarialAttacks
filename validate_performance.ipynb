{
 "cells": [
  {
   "cell_type": "code",
   "execution_count": 30,
   "metadata": {},
   "outputs": [],
   "source": [
    "import glob\n",
    "import numpy as np\n",
    "import json\n",
    "from datetime import datetime"
   ]
  },
  {
   "cell_type": "code",
   "execution_count": 73,
   "metadata": {},
   "outputs": [],
   "source": [
    "filepaths = {\n",
    "    \"Network\": [\"SWIN\", \"RESNET\", \"RETRAINED SWIN\", \"RETRAINED RESNET\"],\n",
    "    \"Attack\": [\"Regular\", \"OnePixel\", \"Triangle\", \"PGD\"]\n",
    "}\n",
    "network = 3"
   ]
  },
  {
   "cell_type": "code",
   "execution_count": 74,
   "metadata": {},
   "outputs": [],
   "source": [
    "reg_val_file = \"{} - {} - *.txt\".format(filepaths[\"Network\"][network], filepaths[\"Attack\"][0])\n",
    "op_val_file = \"{} - {} - *.txt\".format(filepaths[\"Network\"][network], filepaths[\"Attack\"][1])\n",
    "ta_val_file = \"{} - {} - *.txt\".format(filepaths[\"Network\"][network], filepaths[\"Attack\"][2])\n",
    "pgd_val_file = \"{} - {} - *.txt\".format(filepaths[\"Network\"][network], filepaths[\"Attack\"][3])"
   ]
  },
  {
   "cell_type": "code",
   "execution_count": 75,
   "metadata": {},
   "outputs": [
    {
     "name": "stdout",
     "output_type": "stream",
     "text": [
      "RETRAINED RESNET - Regular - 2024-01-24 0935.txt RETRAINED RESNET - OnePixel - 2024-01-24 1019.txt\n"
     ]
    }
   ],
   "source": [
    "print(glob.glob(reg_val_file)[0], glob.glob(op_val_file)[0])"
   ]
  },
  {
   "cell_type": "code",
   "execution_count": 76,
   "metadata": {},
   "outputs": [],
   "source": [
    "with open(glob.glob(reg_val_file)[0], \"r\") as f:\n",
    "    reg_val = json.load(f)\n",
    "\n",
    "with open(glob.glob(op_val_file)[0], \"r\") as f:\n",
    "    op_val = json.load(f)\n",
    "\n",
    "with open(glob.glob(ta_val_file)[0], \"r\") as f:\n",
    "    ta_val = json.load(f)\n",
    "\n",
    "with open(glob.glob(pgd_val_file)[0], \"r\") as f:\n",
    "    pgd_val = json.load(f)"
   ]
  },
  {
   "cell_type": "code",
   "execution_count": 77,
   "metadata": {},
   "outputs": [
    {
     "name": "stdout",
     "output_type": "stream",
     "text": [
      "429\n"
     ]
    }
   ],
   "source": [
    "# Find the accuracy of the regular model\n",
    "correct_classification = 0\n",
    "for i, key in enumerate(reg_val):\n",
    "    if reg_val[key][1] == reg_val[key][2]:\n",
    "        correct_classification +=1\n",
    "\n",
    "print(correct_classification)"
   ]
  },
  {
   "cell_type": "code",
   "execution_count": 78,
   "metadata": {},
   "outputs": [
    {
     "name": "stdout",
     "output_type": "stream",
     "text": [
      "429\n"
     ]
    }
   ],
   "source": [
    "# Find the accuracy of the OnePixel Attack\n",
    "mis_class = []\n",
    "correct_classification = 0\n",
    "for i, key in enumerate(op_val):\n",
    "    if op_val[key][1] == op_val[key][2]:\n",
    "        correct_classification +=1\n",
    "    else:\n",
    "        mis_class.append(op_val[key][0])\n",
    "\n",
    "\n",
    "print(correct_classification)"
   ]
  },
  {
   "cell_type": "code",
   "execution_count": 79,
   "metadata": {},
   "outputs": [
    {
     "name": "stdout",
     "output_type": "stream",
     "text": [
      "2\n"
     ]
    }
   ],
   "source": [
    "# Find the accuracy of the Triange Attack\n",
    "correct_classification = 0\n",
    "for i, key in enumerate(op_val):\n",
    "    if ta_val[key][1] == ta_val[key][2]:\n",
    "        correct_classification +=1\n",
    "\n",
    "print(correct_classification)"
   ]
  },
  {
   "cell_type": "code",
   "execution_count": 80,
   "metadata": {},
   "outputs": [
    {
     "name": "stdout",
     "output_type": "stream",
     "text": [
      "13\n"
     ]
    }
   ],
   "source": [
    "# Find the accuracy of the Projected Gradient Descent Attack\n",
    "correct_classification = 0\n",
    "for i, key in enumerate(op_val):\n",
    "    if pgd_val[key][1] == pgd_val[key][2]:\n",
    "        correct_classification +=1\n",
    "\n",
    "print(correct_classification)"
   ]
  },
  {
   "cell_type": "code",
   "execution_count": null,
   "metadata": {},
   "outputs": [],
   "source": []
  },
  {
   "cell_type": "code",
   "execution_count": null,
   "metadata": {},
   "outputs": [],
   "source": []
  }
 ],
 "metadata": {
  "kernelspec": {
   "display_name": "Python",
   "language": "python",
   "name": "python3"
  },
  "language_info": {
   "codemirror_mode": {
    "name": "ipython",
    "version": 3
   },
   "file_extension": ".py",
   "mimetype": "text/x-python",
   "name": "python",
   "nbconvert_exporter": "python",
   "pygments_lexer": "ipython3",
   "version": "3.8.10"
  }
 },
 "nbformat": 4,
 "nbformat_minor": 2
}
